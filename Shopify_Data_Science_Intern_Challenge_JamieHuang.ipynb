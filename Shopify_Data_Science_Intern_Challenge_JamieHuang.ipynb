{
  "nbformat": 4,
  "nbformat_minor": 0,
  "metadata": {
    "colab": {
      "name": "Shopify Data Science Intern Challenge (Jamie Huang)",
      "provenance": [],
      "mount_file_id": "1EUPb6rXF8DUgJDTW7j9Xi7pRbPdmXLrP",
      "authorship_tag": "ABX9TyO8tIO6jTYKtPBn0fa6zAnF",
      "include_colab_link": true
    },
    "kernelspec": {
      "name": "python3",
      "display_name": "Python 3"
    },
    "language_info": {
      "name": "python"
    }
  },
  "cells": [
    {
      "cell_type": "markdown",
      "metadata": {
        "id": "view-in-github",
        "colab_type": "text"
      },
      "source": [
        "<a href=\"https://colab.research.google.com/github/Jamie-Huang/Spotify-DS-Challenge/blob/main/Shopify_Data_Science_Intern_Challenge_JamieHuang.ipynb\" target=\"_parent\"><img src=\"https://colab.research.google.com/assets/colab-badge.svg\" alt=\"Open In Colab\"/></a>"
      ]
    },
    {
      "cell_type": "markdown",
      "source": [
        "# Question 1"
      ],
      "metadata": {
        "id": "iUzjOP5V_D0h"
      }
    },
    {
      "cell_type": "code",
      "execution_count": 2,
      "metadata": {
        "id": "VihoSYlm7vxx"
      },
      "outputs": [],
      "source": [
        "import pandas as pd"
      ]
    },
    {
      "cell_type": "markdown",
      "source": [
        "**Reading in Data**"
      ],
      "metadata": {
        "id": "8CYsMJN9i_yh"
      }
    },
    {
      "cell_type": "code",
      "source": [
        "data = pd.read_csv('/content/drive/MyDrive/Shopify Data Science Intern Challenge Data Set - Sheet1.csv')"
      ],
      "metadata": {
        "id": "QO75RT__8vE9"
      },
      "execution_count": 3,
      "outputs": []
    },
    {
      "cell_type": "markdown",
      "source": [
        "## Question 1. a)"
      ],
      "metadata": {
        "id": "uB8jdAVo_Okf"
      }
    },
    {
      "cell_type": "code",
      "source": [
        "print(f'The median order amount is ${data[\"order_amount\"].median()}')"
      ],
      "metadata": {
        "colab": {
          "base_uri": "https://localhost:8080/"
        },
        "id": "6Xv-rI33_gHK",
        "outputId": "d6087000-2dac-4872-ea9e-0d68b45d6882"
      },
      "execution_count": 34,
      "outputs": [
        {
          "output_type": "stream",
          "name": "stdout",
          "text": [
            "The median order amount is $284.0\n"
          ]
        }
      ]
    },
    {
      "cell_type": "markdown",
      "source": [
        "Comparing AOV to a robust statistic to outliers, like the median of order amounts which is \\$284, the AOV of \\$3145.13 seems to imply that there is an issue with the dataset.\n"
      ],
      "metadata": {
        "id": "Iqe-zuxj_2yl"
      }
    },
    {
      "cell_type": "markdown",
      "source": [
        "**Create Shoe_Price column, which is the cost per shoe at each Store**"
      ],
      "metadata": {
        "id": "lHP4Uz8Pjhmv"
      }
    },
    {
      "cell_type": "code",
      "source": [
        "data['shoe_price'] = data['order_amount']/data['total_items']"
      ],
      "metadata": {
        "id": "IoOg0UnS80cQ"
      },
      "execution_count": 4,
      "outputs": []
    },
    {
      "cell_type": "code",
      "source": [
        "print(f'The most expensive shoe is ${max(data[\"shoe_price\"])}')"
      ],
      "metadata": {
        "colab": {
          "base_uri": "https://localhost:8080/"
        },
        "id": "oFK4Oh5B3_o9",
        "outputId": "df0ad128-b762-4819-c38e-b482ec6d50d0"
      },
      "execution_count": 30,
      "outputs": [
        {
          "output_type": "stream",
          "name": "stdout",
          "text": [
            "The most expensive shoe is $25725.0\n"
          ]
        }
      ]
    },
    {
      "cell_type": "code",
      "source": [
        "print(f'The cheapest shoe is ${min(data[\"shoe_price\"])}')"
      ],
      "metadata": {
        "colab": {
          "base_uri": "https://localhost:8080/"
        },
        "id": "BexG3ajD6JM_",
        "outputId": "3fca2d11-2e1c-4d9b-d668-279579cb4dce"
      },
      "execution_count": 29,
      "outputs": [
        {
          "output_type": "stream",
          "name": "stdout",
          "text": [
            "The cheapest shoe is $90.0\n"
          ]
        }
      ]
    },
    {
      "cell_type": "markdown",
      "source": [
        "**Histogram of Order Amounts**"
      ],
      "metadata": {
        "id": "7Wh66wY2kAxq"
      }
    },
    {
      "cell_type": "code",
      "source": [
        "OA_hist = data['order_amount'].hist()\n",
        "OA_hist.set_xlabel('Order Amounts')\n",
        "OA_hist.set_ylabel('Count of Order Amount')\n"
      ],
      "metadata": {
        "colab": {
          "base_uri": "https://localhost:8080/",
          "height": 297
        },
        "id": "eRcKPvYKts1u",
        "outputId": "5a88203b-9d33-4cee-dabc-aa44a60c86d9"
      },
      "execution_count": 5,
      "outputs": [
        {
          "output_type": "execute_result",
          "data": {
            "text/plain": [
              "Text(0, 0.5, 'Count of Order Amount')"
            ]
          },
          "metadata": {},
          "execution_count": 5
        },
        {
          "output_type": "display_data",
          "data": {
            "text/plain": [
              "<Figure size 432x288 with 1 Axes>"
            ],
            "image/png": "[encoded data removed]"
          },
          "metadata": {
            "needs_background": "light"
          }
        }
      ]
    },
    {
      "cell_type": "markdown",
      "source": [
        "**Histogram of Shoe Prices**"
      ],
      "metadata": {
        "id": "6vGHZpfVxoBT"
      }
    },
    {
      "cell_type": "code",
      "source": [
        "shoe_price_hist = data['shoe_price'].hist()\n",
        "shoe_price_hist.set_xlabel('Shoe Price')\n",
        "shoe_price_hist.set_ylabel('Count of Shoe Price')"
      ],
      "metadata": {
        "colab": {
          "base_uri": "https://localhost:8080/",
          "height": 297
        },
        "id": "h81A-1Uq2HG2",
        "outputId": "a574c44d-e3c3-44fd-9e70-9c08bf80c84f"
      },
      "execution_count": 6,
      "outputs": [
        {
          "output_type": "execute_result",
          "data": {
            "text/plain": [
              "Text(0, 0.5, 'Count of Shoe Price')"
            ]
          },
          "metadata": {},
          "execution_count": 6
        },
        {
          "output_type": "display_data",
          "data": {
            "text/plain": [
              "<Figure size 432x288 with 1 Axes>"
            ],
            "image/png": "[encoded data removed]"
          },
          "metadata": {
            "needs_background": "light"
          }
        }
      ]
    },
    {
      "cell_type": "markdown",
      "source": [
        "Looking at each histogram, there appears to be an outlier, which are likely the reasons for the large AOV. \n"
      ],
      "metadata": {
        "id": "-YDNIQOu_bhc"
      }
    },
    {
      "cell_type": "markdown",
      "source": [
        "**Analysis of order_amount**"
      ],
      "metadata": {
        "id": "VLLY1zkMynn9"
      }
    },
    {
      "cell_type": "code",
      "source": [
        "oa_outlier_df = data[data['user_id'] == 607]"
      ],
      "metadata": {
        "id": "eEqod7N30PSe"
      },
      "execution_count": 7,
      "outputs": []
    },
    {
      "cell_type": "code",
      "source": [
        "print(f'user_id 607 ordered {oa_outlier_df.shape[0]} times in the 30 day period')\n",
        "print(f'user_id 607 has only ordered from shop_id {oa_outlier_df[\"shop_id\"].unique()[0]}')\n",
        "print(f'All orders made by user_id 607 were payed for using {oa_outlier_df[\"payment_method\"].unique()[0]}')"
      ],
      "metadata": {
        "colab": {
          "base_uri": "https://localhost:8080/"
        },
        "id": "oDlKB0Jk07wb",
        "outputId": "72f74ea2-c703-4616-89d2-0307ce767049"
      },
      "execution_count": 8,
      "outputs": [
        {
          "output_type": "stream",
          "name": "stdout",
          "text": [
            "user_id 607 ordered 17 times in the 30 day period\n",
            "user_id 607 has only ordered from shop_id 42\n",
            "All orders made by user_id 607 were payed for using credit_card\n"
          ]
        }
      ]
    },
    {
      "cell_type": "markdown",
      "source": [
        "Investigating the order amounts, user_id 607 had a lot of suspicious activity, and is the outlier in the order amounts histogram. User_id 607 purchased \\$704,000 worth of shoes from shop_id 42 17 times over a 30 day period. Ordering exactly \\$704,000 worth of shoes 17 times is highly abnormal, and what likely happened is fraud, data entry error, or a database error. Given that all 17 orders were payed for by credit card, it is more likely that user_id stole someone's credit card and fraudulently made these purchases. Regardless, the 17 orders from user_id 17 should definitely be further investigated into. These 17 orders frm user_id 17 are not representative of the dataset."
      ],
      "metadata": {
        "id": "JLWykWuLAnPA"
      }
    },
    {
      "cell_type": "markdown",
      "source": [
        "**Analysis of shoe_price**"
      ],
      "metadata": {
        "id": "Q5AXBGqE3rYT"
      }
    },
    {
      "cell_type": "code",
      "source": [
        "sp_outlier_df = data[data['shop_id'] == 78]"
      ],
      "metadata": {
        "id": "QG2Dabve6Dm6"
      },
      "execution_count": 9,
      "outputs": []
    },
    {
      "cell_type": "code",
      "source": [
        "print(f'shop_id 78 had an AOV of ${round(sp_outlier_df[\"order_amount\"].mean(),2)} in the 30 day period')\n",
        "print(f'The shoe price from shop_id 78 is ${sp_outlier_df[\"shoe_price\"].unique()[0]}')\n",
        "print(f'shop_id 78 had {sp_outlier_df.shape[0]} orders in the 30 day period')\n",
        "print(f'{len(sp_outlier_df[\"user_id\"].unique())} different customers made a purchase at shop_id 78 during the 30 day period')"
      ],
      "metadata": {
        "colab": {
          "base_uri": "https://localhost:8080/"
        },
        "id": "YuhGwlUY6QHR",
        "outputId": "df61b0ac-1880-455c-f10c-9be856f39dbb"
      },
      "execution_count": 15,
      "outputs": [
        {
          "output_type": "stream",
          "name": "stdout",
          "text": [
            "shop_id 78 had an AOV of $49213.04 in the 30 day period\n",
            "The shoe price from shop_id 78 is $25725.0\n",
            "shop_id 78 had 46 orders in the 30 day period\n",
            "45 different customers made a purchase at shop_id 78 during the 30 day period\n"
          ]
        }
      ]
    },
    {
      "cell_type": "markdown",
      "source": [
        "Looking into the histogram for shoe prices at each store, shop_id 78 also had a lot of suspicious activity. Shop_id 78 had 46 orders with an average order amount of \\$49213.04 within the 30 day period. This type of transaction history is highly abnormal. Again, possible sources for this history is fraud, data entry error, or a database error. The shoe price of shop_id is \\$25,725. Even designer shoes do not get this expensive, and it is very unlikely that such a shoe is ordered 46 different times. Combined with the fact that there were purchases made with cash, debit card and credit cards, and there were purchases made by multiple users, I believe it is most likely that there was a data entry error with the shoe price.\n"
      ],
      "metadata": {
        "id": "0Zvo3tNzAxEn"
      }
    },
    {
      "cell_type": "markdown",
      "source": [
        "**Conclusions**"
      ],
      "metadata": {
        "id": "EPi_aVL0A7UW"
      }
    },
    {
      "cell_type": "markdown",
      "source": [
        "A better way to evaluate the data is to have a cleaned dataset that would exclude orders made by user_id 607, and orders submitted to shop_id 78, because including those data points does not accurately represent the dataset. There does not seem to be any outliers with shops that have shoes that are too cheap, as the least expensive shoe in the dataset is \\$90. "
      ],
      "metadata": {
        "id": "LL_TwbEABEDF"
      }
    },
    {
      "cell_type": "markdown",
      "source": [
        "## Question 1. b)"
      ],
      "metadata": {
        "id": "or1AqEzDBeNc"
      }
    },
    {
      "cell_type": "markdown",
      "source": [
        "A metric for this dataset that could be used for the original dataset is the median of the order_amount, because the median is robust to outliers, and as analyzed in a), the dataset has quite a bit of outliers.\n",
        "\n",
        "However, I believe the best metric that represents the dataset is to calculate the average of order amounts on the dataset that doesn’t have any outliers. The mean is a better metric than the median because it takes into account all data points, while the median doesn’t. A major disadvantage of the mean is that it is vulnerable to outliers, but because the mean will be calculated on a dataset with the outliers removed, the mean is a suitable metric.\n"
      ],
      "metadata": {
        "id": "SI8prB4PBrKT"
      }
    },
    {
      "cell_type": "markdown",
      "source": [
        "## Question 1. c)"
      ],
      "metadata": {
        "id": "DP9V0N1tBta3"
      }
    },
    {
      "cell_type": "code",
      "source": [
        "cleaned_data = data[(data['user_id'] != 607)& (data['shop_id'] != 78)]"
      ],
      "metadata": {
        "id": "fLgAHwAL9qqE"
      },
      "execution_count": 35,
      "outputs": []
    },
    {
      "cell_type": "code",
      "source": [
        "print(f'The AOV of the cleaned dataset is ${round(cleaned_data[\"order_amount\"].mean(),2)}')\n",
        "print(f'The median of the raw dataset is ${data[\"order_amount\"].median()}')"
      ],
      "metadata": {
        "colab": {
          "base_uri": "https://localhost:8080/"
        },
        "id": "6V7kXbcYqP4h",
        "outputId": "1fe02893-e744-41b5-e630-9243c3df84c6"
      },
      "execution_count": 39,
      "outputs": [
        {
          "output_type": "stream",
          "name": "stdout",
          "text": [
            "The AOV of the cleaned dataset is $302.58\n",
            "The median of the raw dataset is $284.0\n"
          ]
        }
      ]
    },
    {
      "cell_type": "markdown",
      "source": [
        "The mean AOV of the cleaned dataset without outliers is \\$302.58. The median AOV of the raw dataset is \\$284, indicating that the mean of the cleaned dataset is a metric that better represents the shoe sale dataset.\n"
      ],
      "metadata": {
        "id": "_xzqVtraBxK6"
      }
    },
    {
      "cell_type": "markdown",
      "source": [
        "# Question 2"
      ],
      "metadata": {
        "id": "MLIsew5iDqJ8"
      }
    },
    {
      "cell_type": "markdown",
      "source": [
        "## Question 2. a)"
      ],
      "metadata": {
        "id": "1JkHJcMTDwyG"
      }
    },
    {
      "cell_type": "markdown",
      "source": [
        "Query:\n",
        "SELECT Count(orderid) AS OrdersShippedBySpeedyExpress\n",
        "FROM   orders\n",
        "WHERE  shipperid = (SELECT shipperid\n",
        "                    FROM   shippers\n",
        "                    WHERE  shippername = 'Speedy Express')\n",
        "\n",
        "Answer:\n",
        "54 orders were shipped by Speedy Express in total.\n",
        "\n"
      ],
      "metadata": {
        "id": "a_3Bnr8UDz-Y"
      }
    },
    {
      "cell_type": "markdown",
      "source": [
        "Thought Process:\n",
        "Because orders only has the shipperid, we get the shipperid of Speedy Express from shippers. Then, we can do a count of orderid from orders from orders shipped by Speedy Express.\n"
      ],
      "metadata": {
        "id": "fQ2xDsfkGGbj"
      }
    },
    {
      "cell_type": "markdown",
      "source": [
        "## Question 2. b)"
      ],
      "metadata": {
        "id": "Pm9mw4EAERN6"
      }
    },
    {
      "cell_type": "markdown",
      "source": [
        "Query:\n",
        "SELECT EmployeeOrders, lastname\n",
        "FROM   (SELECT employeeid,\n",
        "               Count(employeeid) AS EmployeeOrders\n",
        "        FROM   orders\n",
        "        GROUP  BY employeeid) AS T1\n",
        "       INNER JOIN employees AS E\n",
        "               ON T1.employeeid = E.employeeid\n",
        "ORDER  BY employeeorders DESC \n",
        "\n",
        "Answer:\n",
        "The employee with the most orders had the last name of Peacock, who completed 40 orders.\n",
        "\n"
      ],
      "metadata": {
        "id": "OTPVIUocEUcy"
      }
    },
    {
      "cell_type": "markdown",
      "source": [
        "Thought Process: The subquery gets the number of orders completed by each employee, and joining with the employee table gets the last name of each employee, and then the descending ordering gets the employee with the most orders."
      ],
      "metadata": {
        "id": "J0VNpEG2GL8z"
      }
    },
    {
      "cell_type": "markdown",
      "source": [
        "## Question 2. c)"
      ],
      "metadata": {
        "id": "os5yliHFEd-e"
      }
    },
    {
      "cell_type": "markdown",
      "source": [
        "Query:\n",
        "SELECT P.productname,\n",
        "       Sum(OD.quantity) AS TotalPurchases\n",
        "FROM   (((orders AS O\n",
        "          INNER JOIN customers AS C\n",
        "                  ON O.customerid = C.customerid)\n",
        "         INNER JOIN orderdetails AS OD\n",
        "                 ON O.orderid = OD.orderid)\n",
        "        INNER JOIN products AS P\n",
        "                ON OD.productid = P.productid)\n",
        "WHERE  C.country = 'Germany'\n",
        "GROUP  BY P.productname\n",
        "ORDER  BY Sum(OD.quantity) DESC\n",
        "\n",
        "\n",
        "Answer:\n",
        "Boston Crab Meat was the product ordered the most by customers in Germany.\n"
      ],
      "metadata": {
        "id": "8ulH6vsHEhnH"
      }
    },
    {
      "cell_type": "markdown",
      "source": [
        "Thought Process:\n",
        "Orders, country, products and customers all need to be joined. Orders and countrys are need to filter on German customers, order details and orders are needed to get the quantity of items ordered, and order details and products are needed to get the product names. After those tables are joined, a groupby on the product names is needed to get get how many times each product is ordered. Then we order by the times each product is ordered in descending order to get to see which product is ordered the most."
      ],
      "metadata": {
        "id": "6w00UFYtGrkH"
      }
    }
  ]
}